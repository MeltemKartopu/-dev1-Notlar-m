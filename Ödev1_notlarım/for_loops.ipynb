{
 "cells": [
  {
   "cell_type": "markdown",
   "id": "17f14f86",
   "metadata": {},
   "source": [
    "# **For Döngüleri ve Uygulamaları**"
   ]
  },
  {
   "cell_type": "markdown",
   "id": "9ba6402c",
   "metadata": {},
   "source": [
    "## **1. Giriş**\n",
    "Tekrarlayan işlemleri otomatik hale getirmek ve analiz süreçlerini daha verimli hale getirmek için **for döngüleri** kullanılır. Örneğin, müşteri geri bildirimlerini analiz ederken belirli kategoriler arasında ortalamaları karşılaştırmak için **for döngüleri** faydalı olabilir.\n",
    "\n",
    "Bu ders kapsamında, **Python'da for döngüleriyle iteratif ifadeler yazmayı** içermektedir."
   ]
  },
  {
   "cell_type": "markdown",
   "id": "43b76589",
   "metadata": {},
   "source": [
    "## **2. For Döngüleri ile Koşullu İfadeler**\n",
    "Bir ürünün müşteri geri bildirimlerini analiz etmek için for döngüsü ile **if, elif, else** yapıları nasıl kullanılabilir?\n",
    "\n",
    "**Örnek Senaryo**\n",
    "Müşteriler, **1-10** arasında bir puanlama yaparak geri bildirim vermektedir. Bu geri bildirimler üç gruba ayrılacaktır:\n",
    "- **Negatif**: 1-5 arasındaki puanlar\n",
    "- **Nötr**: 6-8 arasındaki puanlar\n",
    "- **Pozitif**: 9-10 arasındaki puanlar"
   ]
  },
  {
   "cell_type": "code",
   "execution_count": 2,
   "id": "78553544",
   "metadata": {},
   "outputs": [
    {
     "name": "stdout",
     "output_type": "stream",
     "text": [
      "Negative: 5\n",
      "Neutral: 3\n",
      "Positive: 2\n"
     ]
    }
   ],
   "source": [
    "def score_counter(score_list):\n",
    "    negative_scores = 0\n",
    "    neutral_scores = 0\n",
    "    positive_scores = 0\n",
    "\n",
    "    for score in score_list:\n",
    "        if score >= 9:\n",
    "            positive_scores += 1\n",
    "        elif score >= 6:\n",
    "            neutral_scores += 1\n",
    "        else:\n",
    "            negative_scores += 1\n",
    "\n",
    "    print('Negative:', negative_scores)\n",
    "    print('Neutral:', neutral_scores)\n",
    "    print('Positive:', positive_scores)\n",
    "\n",
    "# Örnek kullanım\n",
    "score_counter([1, 2, 3, 4, 5, 6, 7, 8, 9, 10])"
   ]
  },
  {
   "cell_type": "markdown",
   "id": "9bebc576",
   "metadata": {},
   "source": [
    "## **3. For Döngüsü ile ID Doğrulama (if, not, in Kullanımı)**\n",
    "Bazı müşteri geri bildirimleri sahte olabilir. Bunu kontrol etmek için, **for döngüsü, if ve not in operatörlerini** kullanarak doğrulama yapılır."
   ]
  },
  {
   "cell_type": "code",
   "execution_count": 3,
   "id": "36c7a37d",
   "metadata": {},
   "outputs": [
    {
     "name": "stdout",
     "output_type": "stream",
     "text": [
      "1 of 3 IDs unverified.\n",
      "33.33% unverified.\n"
     ]
    }
   ],
   "source": [
    "\n",
    "def id_validator(verified_ids, feedback_ids):\n",
    "    unverified_feedback = 0\n",
    "    for id in feedback_ids:\n",
    "        if id not in verified_ids:\n",
    "            unverified_feedback += 1\n",
    "\n",
    "    percent_unverified = unverified_feedback / len(feedback_ids) * 100\n",
    "    print(unverified_feedback, 'of', len(feedback_ids), 'IDs unverified.')\n",
    "    print(str(round(percent_unverified, 2)) + '% unverified.')\n",
    "\n",
    "# Örnek kullanım\n",
    "id_validator(verified_ids=['1', '2'], feedback_ids=['1', '2', '3'])"
   ]
  },
  {
   "cell_type": "markdown",
   "id": "90cce658",
   "metadata": {},
   "source": [
    "## **4. İç İçe (Nested) For Döngüleri**\n",
    "Bütün müşterilerin toplam satın alma değerlerini hesaplamak için **iç içe for döngüleri** kullanarak bir çözüm geliştirme."
   ]
  },
  {
   "cell_type": "code",
   "execution_count": 4,
   "id": "5da935eb",
   "metadata": {},
   "outputs": [
    {
     "name": "stdout",
     "output_type": "stream",
     "text": [
      "2\n"
     ]
    }
   ],
   "source": [
    "\n",
    "def purchases_100(sales):\n",
    "    count = 0  # 100$ üzeri harcama yapan müşteri sayacı\n",
    "    for customer in sales:  # Müşteri listesini döngüye al\n",
    "        customer_total = 0  # Müşterinin toplam harcamasını sıfırla\n",
    "        for purchase in customer:  # Müşterinin harcamalarını topla\n",
    "            customer_total += purchase  \n",
    "        if customer_total >= 100:  # 100$ üzeri harcama yaptıysa sayacı artır\n",
    "            count += 1\n",
    "    return count\n",
    "\n",
    "# Örnek kullanım\n",
    "print(purchases_100([[2.75], [50.0, 50.0], [150.46, 200.12, 111.30]]))"
   ]
  },
  {
   "cell_type": "markdown",
   "id": "f831c83d",
   "metadata": {},
   "source": [
    "## **5. Dersin Ana Çıkarımları**\n",
    "- **For döngüleri**, tekrar eden analizleri otomatikleştirmek için kullanılır.\n",
    "- **If, elif, else** ifadeleri ile döngü içinde karar mekanizmaları oluşturulabilir.\n",
    "- **Not in operatörü**, bir listenin belirli öğeler içerip içermediğini kontrol etmek için kullanılabilir.\n",
    "- **İç içe for döngüleri**, **listelerin içindeki listeleri** işlemek için kullanılır.\n",
    "\n",
    "Bu ders, Python'daki **for döngüleri** ve ilgili yapıları öğrenmenize yardımcı oldu."
   ]
  }
 ],
 "metadata": {
  "kernelspec": {
   "display_name": "Python 3",
   "language": "python",
   "name": "python3"
  },
  "language_info": {
   "codemirror_mode": {
    "name": "ipython",
    "version": 3
   },
   "file_extension": ".py",
   "mimetype": "text/x-python",
   "name": "python",
   "nbconvert_exporter": "python",
   "pygments_lexer": "ipython3",
   "version": "3.11.4"
  }
 },
 "nbformat": 4,
 "nbformat_minor": 5
}
